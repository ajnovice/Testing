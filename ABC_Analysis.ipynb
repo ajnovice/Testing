{
 "cells": [
  {
   "cell_type": "code",
   "execution_count": 40,
   "metadata": {},
   "outputs": [],
   "source": [
    "import pandas as pd\n",
    "import matplotlib.pyplot as plt\n",
    "import seaborn as sns\n",
    "import numpy as np"
   ]
  },
  {
   "cell_type": "code",
   "execution_count": 42,
   "metadata": {},
   "outputs": [],
   "source": [
    "data = pd.read_csv('C:/Users/shash/Desktop/Business Practicum/POC Data/Data/New/SALES_DATA.csv')"
   ]
  },
  {
   "cell_type": "code",
   "execution_count": 44,
   "metadata": {},
   "outputs": [
    {
     "data": {
      "text/plain": [
       "dtype('O')"
      ]
     },
     "execution_count": 44,
     "metadata": {},
     "output_type": "execute_result"
    }
   ],
   "source": [
    "data['COST'].dtype"
   ]
  },
  {
   "cell_type": "code",
   "execution_count": 43,
   "metadata": {},
   "outputs": [],
   "source": [
    "def ABC_segmentation(perc):\n",
    "    '''\n",
    "    Creates the 3 classes A,  B, and C based \n",
    "    on quantity percentages (A-60%, B-25%, C-15%)\n",
    "    '''\n",
    "    if perc > 0 and perc < 0.6:\n",
    "        return 'A'\n",
    "    elif perc >= 0.6 and perc < 0.85:\n",
    "        return 'B'\n",
    "    elif perc >= 0.85:\n",
    "        return 'C'"
   ]
  },
  {
   "cell_type": "code",
   "execution_count": 5,
   "metadata": {},
   "outputs": [
    {
     "name": "stderr",
     "output_type": "stream",
     "text": [
      "C:\\Users\\Yen.LAPTOP-BPKQVHNJ\\Anaconda3\\lib\\site-packages\\ipykernel_launcher.py:4: SettingWithCopyWarning: \n",
      "A value is trying to be set on a copy of a slice from a DataFrame.\n",
      "Try using .loc[row_indexer,col_indexer] = value instead\n",
      "\n",
      "See the caveats in the documentation: http://pandas.pydata.org/pandas-docs/stable/indexing.html#indexing-view-versus-copy\n",
      "  after removing the cwd from sys.path.\n"
     ]
    }
   ],
   "source": [
    "# take a subset of the data, we need to use the price and the quantity of each item\n",
    "data_sub = data[[\"StockCode\",\"UnitPrice\",\"Quantity Shipped\"]]\n",
    "\n",
    "# create the column of the additive cost per SKU\n",
    "data_sub[\"AddCost\"] = data_sub[\"UnitPrice\"] * data_sub[\"Quantity Shipped\"] \n",
    "\n",
    "# order by cumulative cost\n",
    "data_sub = data_sub.sort_values(by=['AddCost'], ascending=False)\n",
    "\n",
    "# create the column of the running CumCost of the cumulative cost per SKU\n",
    "data_sub['RunCumCost'] = data_sub['AddCost'].cumsum()\n",
    "\n",
    "# create the column of the total sum\n",
    "data_sub['TotSum'] = data_sub['AddCost'].sum()\n",
    "\n",
    "# create the column of the running percentage\n",
    "data_sub['RunPerc'] =  data_sub['RunCumCost']/data_sub['TotSum']\n",
    "\n",
    "# create the column of the class\n",
    "data_sub['Class'] = data_sub['RunPerc'].apply(ABC_segmentation)"
   ]
  },
  {
   "cell_type": "code",
   "execution_count": 6,
   "metadata": {},
   "outputs": [
    {
     "data": {
      "text/html": [
       "<div>\n",
       "<style scoped>\n",
       "    .dataframe tbody tr th:only-of-type {\n",
       "        vertical-align: middle;\n",
       "    }\n",
       "\n",
       "    .dataframe tbody tr th {\n",
       "        vertical-align: top;\n",
       "    }\n",
       "\n",
       "    .dataframe thead th {\n",
       "        text-align: right;\n",
       "    }\n",
       "</style>\n",
       "<table border=\"1\" class=\"dataframe\">\n",
       "  <thead>\n",
       "    <tr style=\"text-align: right;\">\n",
       "      <th></th>\n",
       "      <th>StockCode</th>\n",
       "      <th>UnitPrice</th>\n",
       "      <th>Quantity Shipped</th>\n",
       "      <th>AddCost</th>\n",
       "      <th>RunCumCost</th>\n",
       "      <th>TotSum</th>\n",
       "      <th>RunPerc</th>\n",
       "      <th>Class</th>\n",
       "    </tr>\n",
       "  </thead>\n",
       "  <tbody>\n",
       "    <tr>\n",
       "      <th>147733</th>\n",
       "      <td>23166</td>\n",
       "      <td>1.130</td>\n",
       "      <td>664224.2500</td>\n",
       "      <td>750573.402500</td>\n",
       "      <td>7.505734e+05</td>\n",
       "      <td>4.586340e+07</td>\n",
       "      <td>0.016365</td>\n",
       "      <td>A</td>\n",
       "    </tr>\n",
       "    <tr>\n",
       "      <th>566272</th>\n",
       "      <td>22655</td>\n",
       "      <td>80.001</td>\n",
       "      <td>8359.2000</td>\n",
       "      <td>668744.359200</td>\n",
       "      <td>1.419318e+06</td>\n",
       "      <td>4.586340e+07</td>\n",
       "      <td>0.030947</td>\n",
       "      <td>A</td>\n",
       "    </tr>\n",
       "    <tr>\n",
       "      <th>566305</th>\n",
       "      <td>22502</td>\n",
       "      <td>188.186</td>\n",
       "      <td>2429.3925</td>\n",
       "      <td>457177.657005</td>\n",
       "      <td>1.876495e+06</td>\n",
       "      <td>4.586340e+07</td>\n",
       "      <td>0.040915</td>\n",
       "      <td>A</td>\n",
       "    </tr>\n",
       "    <tr>\n",
       "      <th>566241</th>\n",
       "      <td>22656</td>\n",
       "      <td>52.625</td>\n",
       "      <td>7776.0000</td>\n",
       "      <td>409212.000000</td>\n",
       "      <td>2.285707e+06</td>\n",
       "      <td>4.586340e+07</td>\n",
       "      <td>0.049837</td>\n",
       "      <td>A</td>\n",
       "    </tr>\n",
       "    <tr>\n",
       "      <th>493395</th>\n",
       "      <td>21430</td>\n",
       "      <td>1.394</td>\n",
       "      <td>270278.4780</td>\n",
       "      <td>376768.198332</td>\n",
       "      <td>2.662476e+06</td>\n",
       "      <td>4.586340e+07</td>\n",
       "      <td>0.058052</td>\n",
       "      <td>A</td>\n",
       "    </tr>\n",
       "  </tbody>\n",
       "</table>\n",
       "</div>"
      ],
      "text/plain": [
       "       StockCode  UnitPrice  Quantity Shipped        AddCost    RunCumCost  \\\n",
       "147733     23166      1.130       664224.2500  750573.402500  7.505734e+05   \n",
       "566272     22655     80.001         8359.2000  668744.359200  1.419318e+06   \n",
       "566305     22502    188.186         2429.3925  457177.657005  1.876495e+06   \n",
       "566241     22656     52.625         7776.0000  409212.000000  2.285707e+06   \n",
       "493395     21430      1.394       270278.4780  376768.198332  2.662476e+06   \n",
       "\n",
       "              TotSum   RunPerc Class  \n",
       "147733  4.586340e+07  0.016365     A  \n",
       "566272  4.586340e+07  0.030947     A  \n",
       "566305  4.586340e+07  0.040915     A  \n",
       "566241  4.586340e+07  0.049837     A  \n",
       "493395  4.586340e+07  0.058052     A  "
      ]
     },
     "execution_count": 6,
     "metadata": {},
     "output_type": "execute_result"
    }
   ],
   "source": [
    "data_sub.head()"
   ]
  },
  {
   "cell_type": "code",
   "execution_count": 7,
   "metadata": {},
   "outputs": [
    {
     "data": {
      "text/plain": [
       "C    500773\n",
       "B     58376\n",
       "A      7160\n",
       "Name: Class, dtype: int64"
      ]
     },
     "execution_count": 7,
     "metadata": {},
     "output_type": "execute_result"
    }
   ],
   "source": [
    "# total SKUs for each class\n",
    "data_sub.Class.value_counts()"
   ]
  },
  {
   "cell_type": "code",
   "execution_count": 8,
   "metadata": {},
   "outputs": [
    {
     "name": "stdout",
     "output_type": "stream",
     "text": [
      "Cost of Class A : 27517745.277261462\n",
      "Cost of Class B : 11466099.419030296\n",
      "Cost of Class C : 6879557.093346432\n"
     ]
    }
   ],
   "source": [
    "# total cost per class\n",
    "print ('Cost of Class A :', data_sub[data_sub.Class == 'A']['AddCost'].sum())\n",
    "print ('Cost of Class B :', data_sub[data_sub.Class == 'B']['AddCost'].sum())\n",
    "print ('Cost of Class C :', data_sub[data_sub.Class == 'C']['AddCost'].sum())"
   ]
  },
  {
   "cell_type": "code",
   "execution_count": 9,
   "metadata": {},
   "outputs": [
    {
     "name": "stdout",
     "output_type": "stream",
     "text": [
      "Percent of Cost of Class A : 0.599993550488845\n",
      "Percent of Cost of Class B : 0.2500054285467504\n",
      "Percent of Cost of Class C : 0.15000102096440465\n"
     ]
    }
   ],
   "source": [
    "# percent of total cost per class\n",
    "print ('Percent of Cost of Class A :', data_sub[data_sub.Class == 'A']['AddCost'].sum()/data_sub['AddCost'].sum())\n",
    "print ('Percent of Cost of Class B :', data_sub[data_sub.Class == 'B']['AddCost'].sum()/data_sub['AddCost'].sum())\n",
    "print ('Percent of Cost of Class C :', data_sub[data_sub.Class == 'C']['AddCost'].sum()/data_sub['AddCost'].sum())"
   ]
  },
  {
   "cell_type": "code",
   "execution_count": 10,
   "metadata": {},
   "outputs": [
    {
     "data": {
      "image/png": "[encoded data removed]",
      "text/plain": [
       "<Figure size 432x288 with 1 Axes>"
      ]
     },
     "metadata": {
      "needs_background": "light"
     },
     "output_type": "display_data"
    }
   ],
   "source": [
    "performance = data_sub['AddCost'].tolist()\n",
    "y_pos = np.arange(len(performance))\n",
    "\n",
    "plt.plot(y_pos, performance)\n",
    "plt.ylabel('Cost')\n",
    "plt.title('ABC Analysis - Cost per SKU')\n",
    "plt.grid(True)\n",
    "plt.ylim((0,250000))\n",
    "plt.show()"
   ]
  },
  {
   "cell_type": "code",
   "execution_count": 11,
   "metadata": {},
   "outputs": [
    {
     "data": {
      "image/png": "[encoded data removed]",
      "text/plain": [
       "<Figure size 432x288 with 1 Axes>"
      ]
     },
     "metadata": {
      "needs_background": "light"
     },
     "output_type": "display_data"
    }
   ],
   "source": [
    "performance = data_sub['RunPerc'].tolist()\n",
    "y_pos = np.arange(len(performance))\n",
    "\n",
    "plt.plot(y_pos, performance)\n",
    "plt.ylabel('Running Total Percentage')\n",
    "plt.title('ABC Analysis - Cumulative Cost per SKU')\n",
    "plt.grid(True)\n",
    "plt.show()"
   ]
  }
 ],
 "metadata": {
  "kernelspec": {
   "display_name": "Python 3",
   "language": "python",
   "name": "python3"
  },
  "language_info": {
   "codemirror_mode": {
    "name": "ipython",
    "version": 3
   },
   "file_extension": ".py",
   "mimetype": "text/x-python",
   "name": "python",
   "nbconvert_exporter": "python",
   "pygments_lexer": "ipython3",
   "version": "3.8.2"
  }
 },
 "nbformat": 4,
 "nbformat_minor": 2
}
